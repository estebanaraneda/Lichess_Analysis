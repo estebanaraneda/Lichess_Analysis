{
 "cells": [
  {
   "cell_type": "code",
   "execution_count": 76,
   "metadata": {},
   "outputs": [],
   "source": [
    "import chess.pgn\n",
    "import pandas as pd"
   ]
  },
  {
   "cell_type": "code",
   "execution_count": 77,
   "metadata": {},
   "outputs": [],
   "source": [
    "# https://www.kaggle.com/code/ironicninja/converting-raw-chess-pgn-to-readable-data/notebook\n",
    "with open(\"..\\Lichess_Analysis\\Data\\Games\\lichess_db_standard_rated_2013-01.txt\", \"rb\") as f:\n",
    "    data = f.read()\n",
    "data = str(data)"
   ]
  },
  {
   "cell_type": "code",
   "execution_count": 78,
   "metadata": {},
   "outputs": [],
   "source": [
    "Raw_Games = data.split('[Event')"
   ]
  },
  {
   "cell_type": "code",
   "execution_count": 79,
   "metadata": {},
   "outputs": [
    {
     "name": "stdout",
     "output_type": "stream",
     "text": [
      "Game at 0th index: b'\n"
     ]
    }
   ],
   "source": [
    "print(\"Game at 0th index: %s\" % Raw_Games[0])"
   ]
  },
  {
   "cell_type": "code",
   "execution_count": 80,
   "metadata": {},
   "outputs": [],
   "source": [
    "del Raw_Games[0]\n",
    "del data"
   ]
  },
  {
   "cell_type": "code",
   "execution_count": 81,
   "metadata": {},
   "outputs": [],
   "source": [
    "Normal_Games = []\n",
    "Analysed_Games = []\n",
    "for game in Raw_Games:\n",
    "    if game.find('eval') != -1:\n",
    "        Analysed_Games.append(game)\n",
    "    else: \n",
    "        Normal_Games.append(game)"
   ]
  },
  {
   "cell_type": "code",
   "execution_count": 82,
   "metadata": {},
   "outputs": [],
   "source": [
    "del Raw_Games"
   ]
  },
  {
   "cell_type": "code",
   "execution_count": 83,
   "metadata": {},
   "outputs": [],
   "source": [
    "i = 0\n",
    "while i < len(Normal_Games):\n",
    "    Normal_Games[i] = Normal_Games[i].split(\"\\\\n\")\n",
    "    i=i+1\n",
    "\n",
    "i = 0\n",
    "while i < len(Analysed_Games):\n",
    "    Analysed_Games[i] = Analysed_Games[i].split(\"\\\\n\")\n",
    "    i=i+1"
   ]
  },
  {
   "cell_type": "code",
   "execution_count": 84,
   "metadata": {},
   "outputs": [],
   "source": [
    "df_N = pd.DataFrame(Normal_Games, columns = ['Event','Site', 'White', 'Black', 'Result', 'Date', 'Time', 'W_Elo', 'B_Elo','W_diff', \n",
    "           'B_diff', 'ECO', 'Opening', 'T_Control', 'End', 'blank','Game', 'blank2', 'blank3', 'blank4'])\n",
    "\n",
    "df_A = pd.DataFrame(Analysed_Games, columns = ['Event','Site', 'White', 'Black', 'Result', 'Date', 'Time', 'W_Elo', 'B_Elo','W_diff', \n",
    "           'B_diff', 'ECO', 'Opening', 'T_Control', 'End', 'blank','Game', 'blank2', 'blank3'])"
   ]
  },
  {
   "cell_type": "code",
   "execution_count": 85,
   "metadata": {},
   "outputs": [],
   "source": [
    "del Normal_Games\n",
    "del Analysed_Games"
   ]
  },
  {
   "cell_type": "code",
   "execution_count": 86,
   "metadata": {},
   "outputs": [],
   "source": [
    "df_N.drop(['blank', 'blank2', 'blank3', 'blank4'], axis=1, inplace=True)\n",
    "df_A.drop(['blank', 'blank2', 'blank3'], axis=1, inplace=True)"
   ]
  },
  {
   "cell_type": "code",
   "execution_count": 87,
   "metadata": {},
   "outputs": [],
   "source": [
    "df_N['Analysed'] = 0\n",
    "df_A['Analysed'] = 1"
   ]
  },
  {
   "cell_type": "code",
   "execution_count": 88,
   "metadata": {},
   "outputs": [],
   "source": [
    "df_F = pd.concat([df_N,df_A])"
   ]
  },
  {
   "cell_type": "code",
   "execution_count": 89,
   "metadata": {},
   "outputs": [],
   "source": [
    "del df_N\n",
    "del df_A"
   ]
  },
  {
   "cell_type": "code",
   "execution_count": 90,
   "metadata": {},
   "outputs": [
    {
     "name": "stdout",
     "output_type": "stream",
     "text": [
      "                        Event                                   Site   \n",
      "0     \"Rated Classical game\"]  [Site \"https://lichess.org/j1dkb5dw\"]  \\\n",
      "1     \"Rated Classical game\"]  [Site \"https://lichess.org/a9tcp02g\"]   \n",
      "2     \"Rated Classical game\"]  [Site \"https://lichess.org/szom2tog\"]   \n",
      "3        \"Rated Bullet game\"]  [Site \"https://lichess.org/rklpc7mk\"]   \n",
      "4        \"Rated Bullet game\"]  [Site \"https://lichess.org/1xb3os63\"]   \n",
      "..                        ...                                    ...   \n",
      "636       \"Rated Blitz game\"]  [Site \"https://lichess.org/sly8uleg\"]   \n",
      "637       \"Rated Blitz game\"]  [Site \"https://lichess.org/wyxy4szg\"]   \n",
      "638      \"Rated Bullet game\"]  [Site \"https://lichess.org/jaqr5yux\"]   \n",
      "639      \"Rated Bullet game\"]  [Site \"https://lichess.org/3p1uwjjg\"]   \n",
      "640       \"Rated Blitz game\"]  [Site \"https://lichess.org/458z7mq7\"]   \n",
      "\n",
      "                             White                        Black   \n",
      "0                  [White \"BFG9k\"]            [Black \"mamalak\"]  \\\n",
      "1         [White \"Desmond_Wilson\"]          [Black \"savinka59\"]   \n",
      "2          [White \"Kozakmamay007\"]  [Black \"VanillaShamanilla\"]   \n",
      "3       [White \"Naitero_Nagasaki\"]                [Black \"800\"]   \n",
      "4           [White \"nichiren1967\"]   [Black \"Naitero_Nagasaki\"]   \n",
      "..                             ...                          ...   \n",
      "636             [White \"karn9872\"]       [Black \"Haantje-ivar\"]   \n",
      "637  [White \"franciscohemeroteca\"]           [Black \"hamiakaz\"]   \n",
      "638               [White \"Arthzu\"]            [Black \"Panevis\"]   \n",
      "639              [White \"Panevis\"]             [Black \"Arthzu\"]   \n",
      "640  [White \"franciscohemeroteca\"]               [Black \"0856\"]   \n",
      "\n",
      "             Result                    Date                  Time   \n",
      "0    [Result \"1-0\"]  [UTCDate \"2012.12.31\"]  [UTCTime \"23:01:03\"]  \\\n",
      "1    [Result \"1-0\"]  [UTCDate \"2012.12.31\"]  [UTCTime \"23:04:12\"]   \n",
      "2    [Result \"1-0\"]  [UTCDate \"2012.12.31\"]  [UTCTime \"23:03:15\"]   \n",
      "3    [Result \"0-1\"]  [UTCDate \"2012.12.31\"]  [UTCTime \"23:04:57\"]   \n",
      "4    [Result \"0-1\"]  [UTCDate \"2012.12.31\"]  [UTCTime \"23:02:37\"]   \n",
      "..              ...                     ...                   ...   \n",
      "636  [Result \"1-0\"]  [UTCDate \"2013.01.31\"]  [UTCTime \"21:36:37\"]   \n",
      "637  [Result \"0-1\"]  [UTCDate \"2013.01.31\"]  [UTCTime \"21:38:54\"]   \n",
      "638  [Result \"1-0\"]  [UTCDate \"2013.01.31\"]  [UTCTime \"21:58:25\"]   \n",
      "639  [Result \"1-0\"]  [UTCDate \"2013.01.31\"]  [UTCTime \"22:02:18\"]   \n",
      "640  [Result \"1-0\"]  [UTCDate \"2013.01.31\"]  [UTCTime \"22:02:02\"]   \n",
      "\n",
      "                 W_Elo              B_Elo                   W_diff   \n",
      "0    [WhiteElo \"1639\"]  [BlackElo \"1403\"]   [WhiteRatingDiff \"+5\"]  \\\n",
      "1    [WhiteElo \"1654\"]  [BlackElo \"1919\"]  [WhiteRatingDiff \"+19\"]   \n",
      "2    [WhiteElo \"1643\"]  [BlackElo \"1747\"]  [WhiteRatingDiff \"+13\"]   \n",
      "3    [WhiteElo \"1824\"]  [BlackElo \"1973\"]   [WhiteRatingDiff \"-6\"]   \n",
      "4    [WhiteElo \"1765\"]  [BlackElo \"1815\"]   [WhiteRatingDiff \"-9\"]   \n",
      "..                 ...                ...                      ...   \n",
      "636  [WhiteElo \"1697\"]  [BlackElo \"1773\"]  [WhiteRatingDiff \"+13\"]   \n",
      "637  [WhiteElo \"1256\"]  [BlackElo \"1597\"]  [WhiteRatingDiff \"-18\"]   \n",
      "638  [WhiteElo \"1862\"]  [BlackElo \"2073\"]  [WhiteRatingDiff \"+17\"]   \n",
      "639  [WhiteElo \"2053\"]  [BlackElo \"1879\"]   [WhiteRatingDiff \"+7\"]   \n",
      "640  [WhiteElo \"1223\"]  [BlackElo \"1500\"]  [WhiteRatingDiff \"+62\"]   \n",
      "\n",
      "                       B_diff          ECO   \n",
      "0      [BlackRatingDiff \"-8\"]  [ECO \"C00\"]  \\\n",
      "1     [BlackRatingDiff \"-22\"]  [ECO \"D04\"]   \n",
      "2     [BlackRatingDiff \"-94\"]  [ECO \"C50\"]   \n",
      "3      [BlackRatingDiff \"+8\"]  [ECO \"B12\"]   \n",
      "4      [BlackRatingDiff \"+9\"]  [ECO \"C00\"]   \n",
      "..                        ...          ...   \n",
      "636   [BlackRatingDiff \"-89\"]  [ECO \"D16\"]   \n",
      "637    [BlackRatingDiff \"+3\"]  [ECO \"C20\"]   \n",
      "638   [BlackRatingDiff \"-20\"]  [ECO \"B07\"]   \n",
      "639    [BlackRatingDiff \"-6\"]  [ECO \"B10\"]   \n",
      "640  [BlackRatingDiff \"-340\"]  [ECO \"A01\"]   \n",
      "\n",
      "                                               Opening   \n",
      "0         [Opening \"French Defense: Normal Variation\"]  \\\n",
      "1    [Opening \"Queen\\'s Pawn Game: Colle System, An...   \n",
      "2     [Opening \"Four Knights Game: Italian Variation\"]   \n",
      "3     [Opening \"Caro-Kann Defense: Goldman Variation\"]   \n",
      "4    [Opening \"French Defense: La Bourdonnais Varia...   \n",
      "..                                                 ...   \n",
      "636  [Opening \"Slav Defense: Soultanbeieff Variation\"]   \n",
      "637  [Opening \"King\\'s Pawn Game: King\\'s Head Open...   \n",
      "638                        [Opening \"Pirc Defense #4\"]   \n",
      "639                      [Opening \"Caro-Kann Defense\"]   \n",
      "640  [Opening \"Nimzo-Larsen Attack: Modern Variation\"]   \n",
      "\n",
      "                  T_Control                           End   \n",
      "0     [TimeControl \"600+8\"]        [Termination \"Normal\"]  \\\n",
      "1     [TimeControl \"480+2\"]        [Termination \"Normal\"]   \n",
      "2    [TimeControl \"420+17\"]        [Termination \"Normal\"]   \n",
      "3      [TimeControl \"60+1\"]        [Termination \"Normal\"]   \n",
      "4      [TimeControl \"60+1\"]        [Termination \"Normal\"]   \n",
      "..                      ...                           ...   \n",
      "636   [TimeControl \"300+0\"]        [Termination \"Normal\"]   \n",
      "637   [TimeControl \"180+5\"]        [Termination \"Normal\"]   \n",
      "638     [TimeControl \"0+1\"]  [Termination \"Time forfeit\"]   \n",
      "639     [TimeControl \"0+1\"]  [Termination \"Time forfeit\"]   \n",
      "640   [TimeControl \"300+0\"]  [Termination \"Time forfeit\"]   \n",
      "\n",
      "                                                  Game  Analysed  \n",
      "0    1. e4 e6 2. d4 b6 3. a3 Bb7 4. Nc3 Nh6 5. Bxh6...         0  \n",
      "1    1. d4 d5 2. Nf3 Nf6 3. e3 Bf5 4. Nh4 Bg6 5. Nx...         0  \n",
      "2    1. e4 e5 2. Nf3 Nc6 3. Bc4 Nf6 4. Nc3 Bc5 5. a...         0  \n",
      "3    1. e4 c6 2. Nc3 d5 3. Qf3 dxe4 4. Nxe4 Nd7 5. ...         0  \n",
      "4    1. e4 e6 2. f4 d5 3. e5 c5 4. Nf3 Qb6 5. c3 Nc...         0  \n",
      "..                                                 ...       ...  \n",
      "636  1. d4 { [%eval 0.22] } 1... d5 { [%eval 0.24] ...         1  \n",
      "637  1. e4 { [%eval 0.09] } 1... e5 { [%eval 0.25] ...         1  \n",
      "638  1. e4 { [%eval 0.22] } 1... d6 { [%eval 0.49] ...         1  \n",
      "639  1. e4 { [%eval 0.2] } 1... c6 { [%eval 0.5] } ...         1  \n",
      "640  1. b3 { [%eval -0.24] } 1... e5 { [%eval -0.12...         1  \n",
      "\n",
      "[121332 rows x 17 columns]\n"
     ]
    }
   ],
   "source": [
    "print(df_F)"
   ]
  }
 ],
 "metadata": {
  "kernelspec": {
   "display_name": "Python 3",
   "language": "python",
   "name": "python3"
  },
  "language_info": {
   "codemirror_mode": {
    "name": "ipython",
    "version": 3
   },
   "file_extension": ".py",
   "mimetype": "text/x-python",
   "name": "python",
   "nbconvert_exporter": "python",
   "pygments_lexer": "ipython3",
   "version": "3.11.3"
  },
  "orig_nbformat": 4
 },
 "nbformat": 4,
 "nbformat_minor": 2
}
